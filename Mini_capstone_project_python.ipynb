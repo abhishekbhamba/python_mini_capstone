{
 "cells": [
  {
   "cell_type": "code",
   "execution_count": 1,
   "id": "6c2450fb",
   "metadata": {},
   "outputs": [],
   "source": [
    "# libraries.\n",
    "\n",
    "import numpy as np    # i am using numpy because it is faster than the python. it is based on c or c++.\n",
    "import re             # this is regex expression. by this i am finding and searching."
   ]
  },
  {
   "cell_type": "markdown",
   "id": "80d7216e",
   "metadata": {},
   "source": [
    "###  Q1. Write a function named ‘MulTable(n)’ that takes one positive  integer ‘n’ as its parameter and prints out the multiplication table up until number 10 for all the numbers starting from the number 2  and till the integer ‘n’, in the following format;\n",
    " \n",
    "\n",
    "Ex: MulTable(4) should print;\n",
    "\n",
    "Output: \n",
    "\n",
    "2 x 1 = 2 3 x 1 = 3 4 x 1 = 4\n",
    "\n",
    "2 x 2 = 4 3 x 2 = 6 4x 2 = 8\n",
    "\n",
    "2 x 3 = 6 3 x 3 = 9 4 x 3 = 12\n",
    "\n",
    "2 x 4 = 8 3 x 4 = 12 4 x 4 = 16\n",
    "\n",
    "2 x 5 = 10 3 x 5 = 15 4 x 5 = 20\n",
    "\n",
    "2 x 6 = 12 3 x 6 = 18 4 x 6 = 24\n",
    "\n",
    "2 x 7 = 14 3 x 7 = 21 4 x 7 = 28\n",
    "\n",
    "2 x 8 = 16 3 x 8 = 24 4 x 8 = 32\n",
    "\n",
    "2 x 9 = 18 3 x 9 = 27 4 x 9 = 36\n",
    "\n",
    "2 x 10 = 20 3 x 10 = 30 4 x 10 = 40\n",
    "\n",
    "NOTE: Make sure your function prints in the exact above format, with 1 to 10 multiples of each number in different columns right next to each other (space between the two columns is one tab spaces)\n",
    "\n",
    " "
   ]
  },
  {
   "cell_type": "code",
   "execution_count": 8,
   "id": "3cb3aea4",
   "metadata": {},
   "outputs": [
    {
     "name": "stdout",
     "output_type": "stream",
     "text": [
      "enter number:  4\n",
      "\n",
      "\n",
      "2 x 1 = 2\n",
      "2 x 2 = 4\n",
      "2 x 3 = 6\n",
      "2 x 4 = 8\n",
      "2 x 5 = 10\n",
      "2 x 6 = 12\n",
      "2 x 7 = 14\n",
      "2 x 8 = 16\n",
      "2 x 9 = 18\n",
      "2 x 10 = 20\n",
      "\n",
      "\n",
      "3 x 1 = 3\n",
      "3 x 2 = 6\n",
      "3 x 3 = 9\n",
      "3 x 4 = 12\n",
      "3 x 5 = 15\n",
      "3 x 6 = 18\n",
      "3 x 7 = 21\n",
      "3 x 8 = 24\n",
      "3 x 9 = 27\n",
      "3 x 10 = 30\n",
      "\n",
      "\n",
      "4 x 1 = 4\n",
      "4 x 2 = 8\n",
      "4 x 3 = 12\n",
      "4 x 4 = 16\n",
      "4 x 5 = 20\n",
      "4 x 6 = 24\n",
      "4 x 7 = 28\n",
      "4 x 8 = 32\n",
      "4 x 9 = 36\n",
      "4 x 10 = 40\n"
     ]
    }
   ],
   "source": [
    "\n",
    "num = int(input(\"enter number:  \"))\n",
    "    \n",
    "for i in range(2,(num+1)):\n",
    "    print(\"\\n\")\n",
    "    for j in range(1,11):\n",
    "        print(i,'x',j,'=',i*j)"
   ]
  },
  {
   "cell_type": "markdown",
   "id": "3fdf25f4",
   "metadata": {},
   "source": [
    "###  Q2. Create a class StringManipulation that receives a list of words wlist at the time of object creation. The class must have the following methods:\n",
    "\n",
    " \n",
    "\n",
    "1. Words_of_length(length): returns a list of all the words of length length in wlist.\n",
    "\n",
    "2. Words_starts_with(char): returns a list of all the words that start with char in wlist.\n",
    "\n",
    "3. Words_ends_with(char): returns a list of all the words that end with char in wlist.\n",
    "\n",
    "4. Palindromes: returns a list of all the words that are palindromes in wlist.\n",
    "\n",
    "5. Total_words: returns the number of words in wlist.\n",
    "\n",
    "6. Longest_word: that returns the longest length word in wlist. if list wlist has more than one longest word then return the first one.\n",
    "\n",
    "7. Smallest_word: that returns the smallest length word in wlist. if list wlist has more than one smallest word then return the first one.\n",
    "\n",
    "8. Count(word): that returns the total number of occurrences of word in wlist.\n",
    "\n"
   ]
  },
  {
   "cell_type": "code",
   "execution_count": 9,
   "id": "63eff9a3",
   "metadata": {},
   "outputs": [],
   "source": [
    "x = \"python programming\""
   ]
  },
  {
   "cell_type": "code",
   "execution_count": 11,
   "id": "acf2a560",
   "metadata": {},
   "outputs": [
    {
     "data": {
      "text/plain": [
       "18"
      ]
     },
     "execution_count": 11,
     "metadata": {},
     "output_type": "execute_result"
    }
   ],
   "source": [
    "len(x)   # word of length."
   ]
  },
  {
   "cell_type": "code",
   "execution_count": 12,
   "id": "19a53da8",
   "metadata": {},
   "outputs": [
    {
     "name": "stdout",
     "output_type": "stream",
     "text": [
      "['T']\n",
      "Yes, there at least one match\n"
     ]
    }
   ],
   "source": [
    "# Words_starts_with(char)\n",
    "\n",
    "import re\n",
    "\n",
    "txt =  \"The rain in India\"\n",
    "x = re.findall(\"^\\w\",txt)\n",
    "print(x)\n",
    "\n",
    "if x:\n",
    "    print(\"Yes, there at least one match\")\n",
    "else:\n",
    "    print(\"No match\")"
   ]
  },
  {
   "cell_type": "code",
   "execution_count": 13,
   "id": "a1054d0f",
   "metadata": {},
   "outputs": [
    {
     "name": "stdout",
     "output_type": "stream",
     "text": [
      "['a']\n",
      "Yes, there at least one match\n"
     ]
    }
   ],
   "source": [
    "# Words_ends_with(char)\n",
    "\n",
    "import re\n",
    "\n",
    "txt =  \"The rain in India\"\n",
    "x = re.findall(\"\\w$\",txt)\n",
    "print(x)\n",
    "\n",
    "if x:\n",
    "    print(\"Yes, there at least one match\")\n",
    "else:\n",
    "    print(\"No match\")"
   ]
  },
  {
   "cell_type": "code",
   "execution_count": 14,
   "id": "5ad250d0",
   "metadata": {},
   "outputs": [
    {
     "name": "stdout",
     "output_type": "stream",
     "text": [
      "enter the value:  madam\n",
      "yes it is palindrome\n"
     ]
    }
   ],
   "source": [
    "# Palindromes\n",
    "\n",
    "s = input(\"enter the value:  \")\n",
    "\n",
    "reverse = s[::-1]    # -1 shows from back\n",
    "\n",
    "if (s==reverse):\n",
    "    print(\"yes it is palindrome\")\n",
    "else:\n",
    "    print(\"no palindrome\")"
   ]
  },
  {
   "cell_type": "code",
   "execution_count": 15,
   "id": "ad4fc372",
   "metadata": {},
   "outputs": [
    {
     "name": "stdout",
     "output_type": "stream",
     "text": [
      "<re.Match object; span=(0, 3), match='The'>\n",
      "Yes, there at least one match\n"
     ]
    }
   ],
   "source": [
    "# Total (word)\n",
    "\n",
    "import re\n",
    "\n",
    "txt =  \"The rain in India\"\n",
    "x = re.search(r\"\\w*\",txt)\n",
    "print(x)\n",
    "\n",
    "if x:\n",
    "    print(\"Yes, there at least one match\")\n",
    "else:\n",
    "    print(\"No match\")"
   ]
  },
  {
   "cell_type": "code",
   "execution_count": 16,
   "id": "a52eff61",
   "metadata": {},
   "outputs": [
    {
     "name": "stdout",
     "output_type": "stream",
     "text": [
      "['The', 'rain', 'in', 'India']\n",
      "Yes, there at least one match\n"
     ]
    }
   ],
   "source": [
    "# Count(word)\n",
    "\n",
    "import re\n",
    "\n",
    "txt =  \"The rain in India\"\n",
    "x = re.findall(\"\\\\w+\",txt)\n",
    "print(x)\n",
    "\n",
    "if x:\n",
    "    print(\"Yes, there at least one match\")\n",
    "else:\n",
    "    print(\"No match\")"
   ]
  },
  {
   "cell_type": "code",
   "execution_count": 17,
   "id": "c886a5f3",
   "metadata": {},
   "outputs": [
    {
     "name": "stdout",
     "output_type": "stream",
     "text": [
      "enter the value:   7\n",
      "happens\n"
     ]
    }
   ],
   "source": [
    "# Longest_word\n",
    "\n",
    "n = int(input(\"enter the value:   \"))\n",
    "\n",
    "f = \"the rain in India happens a lot\"\n",
    "\n",
    "lst = f.split()\n",
    "\n",
    "print(max(lst,key=len))"
   ]
  },
  {
   "cell_type": "code",
   "execution_count": 18,
   "id": "51c1e68e",
   "metadata": {},
   "outputs": [
    {
     "name": "stdout",
     "output_type": "stream",
     "text": [
      "enter the value:   3\n",
      "a\n"
     ]
    }
   ],
   "source": [
    "# Smallest_word\n",
    "\n",
    "n = int(input(\"enter the value:   \"))\n",
    "\n",
    "f = \"the rain in India happens a lot\"\n",
    "\n",
    "lst = f.split()\n",
    "\n",
    "print(min(lst,key=len))"
   ]
  },
  {
   "cell_type": "markdown",
   "id": "9b75c35b",
   "metadata": {},
   "source": [
    "## Q4. write a python progamme to print the fooling pattern in * the first line taken for user (odd number)"
   ]
  },
  {
   "cell_type": "code",
   "execution_count": 52,
   "id": "3a0a97f6",
   "metadata": {},
   "outputs": [
    {
     "name": "stdout",
     "output_type": "stream",
     "text": [
      "*****\n",
      "**\n",
      "**\n",
      "*****\n",
      "**\n",
      "**\n",
      "**\n",
      "**\n",
      "**\n",
      "**\n",
      "**\n",
      "**\n",
      "**\n",
      "**\n",
      "**\n"
     ]
    }
   ],
   "source": [
    "for row in range(15):\n",
    "    for col in range(9):\n",
    "        if (col==0 or col==4) or ((row==0 or row==3) and (col>0 and col<4)):\n",
    "            print(\"*\",end=\"\")\n",
    "        else:\n",
    "            print(end=\"\")\n",
    "    print()"
   ]
  },
  {
   "cell_type": "markdown",
   "id": "804cab58",
   "metadata": {},
   "source": [
    "### Q5. write a programme to accept a string s from the user that contain (,),{,},[,]"
   ]
  },
  {
   "cell_type": "code",
   "execution_count": 50,
   "id": "526f29b3",
   "metadata": {},
   "outputs": [
    {
     "name": "stdout",
     "output_type": "stream",
     "text": [
      "False\n"
     ]
    }
   ],
   "source": [
    "def s(expr):\n",
    "    stack = []\n",
    "    for char in expr:\n",
    "        if char in [\"(\",\"[\",\"{\"]:\n",
    "            stack.append(char)\n",
    "        else:\n",
    "            if not stack:\n",
    "                return False\n",
    "            current_char = stack.pop()\n",
    "            if current_char == \"(\":\n",
    "                if char != \"(\":\n",
    "                    return False\n",
    "            if current_char == \"{\":\n",
    "                if char != \"{\":\n",
    "                    return False\n",
    "            if current_char == \"[\":\n",
    "                if char != \"[\":\n",
    "                    return False\n",
    "    \n",
    "    if stack:\n",
    "            return False\n",
    "    return True\n",
    "\n",
    "if __name__ == \"__main__\":\n",
    "    expr = \"{()}[]\"\n",
    "    \n",
    "    if s(expr):\n",
    "        print(\"True\")\n",
    "    else:\n",
    "        print(\"False\")\n",
    "        "
   ]
  },
  {
   "cell_type": "code",
   "execution_count": null,
   "id": "2d841134",
   "metadata": {},
   "outputs": [],
   "source": []
  },
  {
   "cell_type": "code",
   "execution_count": null,
   "id": "df13eda2",
   "metadata": {},
   "outputs": [],
   "source": []
  }
 ],
 "metadata": {
  "kernelspec": {
   "display_name": "Python 3",
   "language": "python",
   "name": "python3"
  },
  "language_info": {
   "codemirror_mode": {
    "name": "ipython",
    "version": 3
   },
   "file_extension": ".py",
   "mimetype": "text/x-python",
   "name": "python",
   "nbconvert_exporter": "python",
   "pygments_lexer": "ipython3",
   "version": "3.8.8"
  }
 },
 "nbformat": 4,
 "nbformat_minor": 5
}
